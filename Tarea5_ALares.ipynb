{
 "cells": [
  {
   "cell_type": "markdown",
   "metadata": {},
   "source": [
    "<img style=\"float: left; margin: 30px 15px 15px 15px;\" src=\"https://pngimage.net/wp-content/uploads/2018/06/logo-iteso-png-5.png\" width=\"300\" height=\"50\" /> \n",
    "    \n",
    "    \n",
    "### <font color='navy'> Simulación de procesos financieros. \n",
    "\n",
    "**Nombres:** <span style=\"color:NAVY\"> Andrés Lares Barragán</span>\n",
    "\n",
    "**Fecha:** 17 de febrero del 2021.  \n",
    "\n",
    "**Expediente** : <span style=\"color:NAVY\"> 724055 </span>  \n",
    "    \n",
    "**Profesor:** Oscar David Jaramillo Zuluaga.\n",
    "\n",
    "<span style=\"color:NAVY\"> Estudiante 1</span>\n",
    "\n",
    "# Tarea 5: Clase 9\n",
    "    \n",
    "### [Link a repositorio GitHub](https://github.com/AndresLaresBarragan/Tarea5_ALares)\n",
    "   "
   ]
  },
  {
   "cell_type": "markdown",
   "metadata": {},
   "source": [
    "> Para las siguiente dos funciones, genere muestras aleatorias que distribuyan según la función dada usando el método de la transformada inversa y grafique el histograma de 1000 muestras generadas con el método de la transformada inversa y compárela con el función $f(x)$ **(recuerde que $f(x)$ es la distribución de probabilidad y $F(x)$ es la distribución de probabilidad acumulada)** [ver este enlace para más información](https://es.wikipedia.org/wiki/Funci%C3%B3n_de_distribuci%C3%B3n). Este procedimiento se realiza con el fín de validar que el procedimiento y los resultados son correctos.\n"
   ]
  },
  {
   "cell_type": "code",
   "execution_count": 1,
   "metadata": {},
   "outputs": [],
   "source": [
    "import numpy as np, matplotlib.pyplot as plt, pandas as pd"
   ]
  },
  {
   "cell_type": "markdown",
   "metadata": {},
   "source": [
    "## Pregunta 1\n",
    "> Generación variable aleatoria **continua**\n",
    ">El tiempo en el cual un movimiento browniano se mantiene sobre su punto máximo en el intervalo [0,1] tiene una distribución\n",
    ">$$F(x)=\\frac{2}{\\pi}\\sin^{-1}(\\sqrt x),\\quad 0\\leq x\\leq 1$$ </font>"
   ]
  },
  {
   "cell_type": "markdown",
   "metadata": {},
   "source": [
    "<span style=\"color:NAVY\"> 1. Conociendo la distribución de probabilidad acumulada (CDF), el método de la transformada inversa implica igualar $F(x)$ a una variable aleatoria con distribución uniforme $U$.   \n",
    "2. Posteriormente, se despeja $x$ para encontrar la función $F^{-1}(U)$ que genera valores aleatorios de $x$ con distribución de probabilidad (PDF) $f(x)$. </span>"
   ]
  },
  {
   "cell_type": "markdown",
   "metadata": {},
   "source": [
    "#### <span style=\"color:NAVY\"> Transformada Inversa\n",
    "$$F^{-1}(U) = \\sin^2{\\frac{\\pi U}{2}} \\quad \\small{U \\rightarrow \\text{V.A.} \\sim \\text{uniforme(0,1)}}$$\n",
    "\n",
    "$$F^{-1}(U) = \\frac{1-\\cos{\\pi U}}{2}$$\n",
    "</span>"
   ]
  },
  {
   "cell_type": "code",
   "execution_count": 2,
   "metadata": {},
   "outputs": [],
   "source": [
    "def T_inv(N):\n",
    "    '''\n",
    "    Genera muestras aleatorias con dist f(x)\n",
    "    de acuerdo al metodo de la transformada inversa.\n",
    "    '''\n",
    "    return (1-np.cos(np.pi*np.random.random(N)))/2"
   ]
  },
  {
   "cell_type": "markdown",
   "metadata": {},
   "source": [
    "#### <span style=\"color:NAVY\">Comprobación   \n",
    "El histograma de los valores generados debe ser acostado por la PDF $f(x)$.  \n",
    "$$f(x) = \\frac{dF}{dx} = \\frac{1}{\\pi \\sqrt{x} \\sqrt{1-x}} $$\n",
    "</span>"
   ]
  },
  {
   "cell_type": "code",
   "execution_count": 3,
   "metadata": {},
   "outputs": [
    {
     "data": {
      "image/png": "[encoded data removed]",
      "text/plain": [
       "<Figure size 432x288 with 1 Axes>"
      ]
     },
     "metadata": {
      "needs_background": "light"
     },
     "output_type": "display_data"
    }
   ],
   "source": [
    "# Comprobar histograma de valores generados vs. funcion PDF\n",
    "N = 1000 \n",
    "continuos = T_inv(N)\n",
    "\n",
    "x = np.arange(0.01, .99, 0.01) # valores desde 0.01 hasta 0.99 para evitar dividir entre cero.\n",
    "f = lambda x: 1/(np.pi*np.sqrt(x)*np.sqrt(1-x))\n",
    "\n",
    "plt.hist(continuos, bins = 50, density = True, label = 'Valores Generados')\n",
    "plt.plot(x,f(x),label='PDF')\n",
    "plt.legend()\n",
    "plt.show()"
   ]
  },
  {
   "cell_type": "markdown",
   "metadata": {},
   "source": [
    "## Pregunta 2\n",
    "\n",
    "> Generación variable aleatoria **discreta**\n",
    "> La distribución binomial modela el número de éxitos de n ensayos independientes donde hay una probabilidad p de éxito en cada ensayo.\n",
    "> Generar una variable aletoria binomial con parámetros $n=10$ y $p=0.7$. Recordar que $$X\\sim binomial(n,p) \\longrightarrow p_i=P(X=i)=\\frac{n!}{i!(n-i)!}p^i(1-p)^{n-i},\\quad i=0,1,\\cdots,n$$\n",
    "> Por propiedades de la operación factorial la anterior $p_i$ se puede escribir como:\n",
    "> $$p_{i+1}=\\frac{n-i}{i+1}\\frac{p}{1-p} p_i $$\n",
    "\n",
    "> **Nota:** Por notación recuerde que para el caso continuo $f(x)$ es la distribución de probabilidad (PDF), mientras $F(x)$ corresponde a la distribución de probabilidad acumulada (CDF). Para el caso discreto, $P(X=i)$ corresponde a su distribución de probabilidad (PMF) y $ F_{X}(x)=\\operatorname {P} (X\\leq x)=\\sum _{x_{i}\\leq x}\\operatorname {P} (X=x_{i})=\\sum _{x_{i}\\leq x}p(x_{i})$, corresponde a su distribución de probabilidad acumulada (CDF)."
   ]
  },
  {
   "cell_type": "markdown",
   "metadata": {},
   "source": [
    "<span style=\"color:NAVY\"> \n",
    "$$\\text{PMF: }\\quad P(X=i)=\\frac{n!}{i!(n-i)!}p^i(1-p)^{n-i},\\quad i=0,1,\\cdots,n $$ \n",
    "    \n",
    "    \n",
    "$$\\text{CDF: }\\quad \\operatorname {P} (X\\leq x) = \\sum _{x_{i}\\leq x}p(x_{i})$$  \n",
    "    El primer paso es calcular y acomodar en un dataframe los valores de 'p' y 'p_acum' para cada valor de 'x'. </span>\n",
    "</span>"
   ]
  },
  {
   "cell_type": "markdown",
   "metadata": {},
   "source": [
    "### <span style=\"color:NAVY\"> Usando la PMF del problema:  "
   ]
  },
  {
   "cell_type": "code",
   "execution_count": 4,
   "metadata": {},
   "outputs": [],
   "source": [
    "from math import factorial as fac"
   ]
  },
  {
   "cell_type": "code",
   "execution_count": 5,
   "metadata": {
    "scrolled": false
   },
   "outputs": [
    {
     "data": {
      "text/plain": [
       "[5.9049000000000085e-06,\n",
       " 0.00013778100000000018,\n",
       " 0.0014467005000000015,\n",
       " 0.009001692000000007,\n",
       " 0.03675690900000003,\n",
       " 0.10291934520000003,\n",
       " 0.20012094900000005,\n",
       " 0.266827932,\n",
       " 0.23347444049999994,\n",
       " 0.12106082099999996,\n",
       " 0.02824752489999998]"
      ]
     },
     "execution_count": 5,
     "metadata": {},
     "output_type": "execute_result"
    }
   ],
   "source": [
    "n, p = 10, .7\n",
    "prob_ocur1 =  [(fac(n)/(fac(i)*fac(n-i)))*p**i*(1-p)**(n-i) for i in range(n+1)]\n",
    "prob_ocur1"
   ]
  },
  {
   "cell_type": "markdown",
   "metadata": {},
   "source": [
    "### <span style=\"color:NAVY\"> Acomodar en DataFrame"
   ]
  },
  {
   "cell_type": "code",
   "execution_count": 6,
   "metadata": {
    "scrolled": true
   },
   "outputs": [
    {
     "data": {
      "text/html": [
       "<div>\n",
       "<style scoped>\n",
       "    .dataframe tbody tr th:only-of-type {\n",
       "        vertical-align: middle;\n",
       "    }\n",
       "\n",
       "    .dataframe tbody tr th {\n",
       "        vertical-align: top;\n",
       "    }\n",
       "\n",
       "    .dataframe thead th {\n",
       "        text-align: right;\n",
       "    }\n",
       "</style>\n",
       "<table border=\"1\" class=\"dataframe\">\n",
       "  <thead>\n",
       "    <tr style=\"text-align: right;\">\n",
       "      <th></th>\n",
       "      <th>$$P(X=i)$$</th>\n",
       "      <th>$$\\operatorname {P} (X\\leq x) $$</th>\n",
       "    </tr>\n",
       "    <tr>\n",
       "      <th>$$X_i$$</th>\n",
       "      <th></th>\n",
       "      <th></th>\n",
       "    </tr>\n",
       "  </thead>\n",
       "  <tbody>\n",
       "    <tr>\n",
       "      <th>0</th>\n",
       "      <td>0.000006</td>\n",
       "      <td>0.000006</td>\n",
       "    </tr>\n",
       "    <tr>\n",
       "      <th>1</th>\n",
       "      <td>0.000138</td>\n",
       "      <td>0.000144</td>\n",
       "    </tr>\n",
       "    <tr>\n",
       "      <th>2</th>\n",
       "      <td>0.001447</td>\n",
       "      <td>0.001590</td>\n",
       "    </tr>\n",
       "    <tr>\n",
       "      <th>3</th>\n",
       "      <td>0.009002</td>\n",
       "      <td>0.010592</td>\n",
       "    </tr>\n",
       "    <tr>\n",
       "      <th>4</th>\n",
       "      <td>0.036757</td>\n",
       "      <td>0.047349</td>\n",
       "    </tr>\n",
       "    <tr>\n",
       "      <th>5</th>\n",
       "      <td>0.102919</td>\n",
       "      <td>0.150268</td>\n",
       "    </tr>\n",
       "    <tr>\n",
       "      <th>6</th>\n",
       "      <td>0.200121</td>\n",
       "      <td>0.350389</td>\n",
       "    </tr>\n",
       "    <tr>\n",
       "      <th>7</th>\n",
       "      <td>0.266828</td>\n",
       "      <td>0.617217</td>\n",
       "    </tr>\n",
       "    <tr>\n",
       "      <th>8</th>\n",
       "      <td>0.233474</td>\n",
       "      <td>0.850692</td>\n",
       "    </tr>\n",
       "    <tr>\n",
       "      <th>9</th>\n",
       "      <td>0.121061</td>\n",
       "      <td>0.971752</td>\n",
       "    </tr>\n",
       "    <tr>\n",
       "      <th>10</th>\n",
       "      <td>0.028248</td>\n",
       "      <td>1.000000</td>\n",
       "    </tr>\n",
       "  </tbody>\n",
       "</table>\n",
       "</div>"
      ],
      "text/plain": [
       "         $$P(X=i)$$  $$\\operatorname {P} (X\\leq x) $$\n",
       "$$X_i$$                                              \n",
       "0          0.000006                          0.000006\n",
       "1          0.000138                          0.000144\n",
       "2          0.001447                          0.001590\n",
       "3          0.009002                          0.010592\n",
       "4          0.036757                          0.047349\n",
       "5          0.102919                          0.150268\n",
       "6          0.200121                          0.350389\n",
       "7          0.266828                          0.617217\n",
       "8          0.233474                          0.850692\n",
       "9          0.121061                          0.971752\n",
       "10         0.028248                          1.000000"
      ]
     },
     "execution_count": 6,
     "metadata": {},
     "output_type": "execute_result"
    }
   ],
   "source": [
    "datos = pd.DataFrame(index = range(0,n+1), data = prob_ocur1, columns = ['$$P(X=i)$$'] ).rename_axis(index='$$X_i$$')\n",
    "datos['$$\\operatorname {P} (X\\leq x) $$'] = np.cumsum(prob_ocur1)\n",
    "datos"
   ]
  },
  {
   "cell_type": "markdown",
   "metadata": {},
   "source": [
    "<span style=\"color:NAVY\"> El MTI para variables aleatorias discretas se reduce a:  \n",
    "    1. Generar un número uniforme $U$ entre (0,1).  \n",
    "    2. Encontrar $k\\in\\{1,\\cdots,n\\}$ tal que $q_{k-1}<U\\leq q_k$  \n",
    "    3. Tomar $X=c_k$.  \n",
    "Donde $q_i$ es la probabilidad acumulada que corresponde a $x_i$.\n",
    "</span>"
   ]
  },
  {
   "cell_type": "code",
   "execution_count": 7,
   "metadata": {
    "scrolled": true
   },
   "outputs": [],
   "source": [
    "# ** sum([1 for p in data.iloc[:,1] if p < U]): retorna el valor c_k debido a que los valores empiezan en cero, el MTI requiere c_k\n",
    "def MTI_discreta(p_acum: 'P.Acumulada de la distribución a generar',\n",
    "                indices: 'valores reales a generar aleatoriamente',\n",
    "                N: 'cantidad de números aleatorios a generar'):\n",
    "    '''\n",
    "    Retorna 'N' valores aleatorios de 'x' que pertenece a 'indices' de acuerdo a\n",
    "    la distribucion de 'p_acum'.\n",
    "    '''\n",
    "    U =np.random.rand(N)\n",
    "    # * No es necesario definir un diccionario que transforme de c_(k-1) a c_k.    # **\n",
    "    y = pd.Series([sum([1 for p in p_acum if p < ui]) for ui in U])\n",
    "\n",
    "    return y\n"
   ]
  },
  {
   "cell_type": "markdown",
   "metadata": {},
   "source": [
    "### <span style=\"color:NAVY\"> Histograma (valores PMF del problema)"
   ]
  },
  {
   "cell_type": "code",
   "execution_count": 8,
   "metadata": {
    "scrolled": true
   },
   "outputs": [],
   "source": [
    "Fx1 = datos.iloc[:,1]\n",
    "valores1 = datos.index\n",
    "\n",
    "discretos1 = MTI_discreta(Fx1,valores1,N)"
   ]
  },
  {
   "cell_type": "code",
   "execution_count": 9,
   "metadata": {
    "scrolled": false
   },
   "outputs": [
    {
     "data": {
      "image/png": "[encoded data removed]",
      "text/plain": [
       "<Figure size 432x288 with 1 Axes>"
      ]
     },
     "metadata": {
      "needs_background": "light"
     },
     "output_type": "display_data"
    }
   ],
   "source": [
    "# graficar usando np.histogram() | agregar el parametro 'range' para que tome en cuenta los valores de x que no fueron generados.\n",
    "y1, bins1 = np.histogram(discretos1, bins = len(set(valores1)), density = True, range= (0,len(set(valores1))))\n",
    "\n",
    "\n",
    "PMF = datos.iloc[:,0] # PMF debe acotar el histograma\n",
    "\n",
    "plt.bar(bins1[:-1], y1, label = 'Valores Generados')\n",
    "plt.plot(PMF , label = 'PMF', color = 'y' )\n",
    "plt.xlabel('valores')\n",
    "plt.ylabel('probabilidad')\n",
    "plt.legend()\n",
    "plt.show()"
   ]
  },
  {
   "cell_type": "markdown",
   "metadata": {},
   "source": [
    "#### <span style=\"color:NAVY\"> CONCLUSIÓN: En ambos ejercicios de esta tarea, la varianza (diferencia entre prob empÍrica y prob teórica para cada valor de $x_i$) es alta debido a la baja cantidad de valores aleatorios generados. En caso de que no se pueda aumentar el número de V.A., se debe implementar una técnica de reducción de varianza para mejorar la precisión con la cual se generan los V.A."
   ]
  }
 ],
 "metadata": {
  "kernelspec": {
   "display_name": "Python 3",
   "language": "python",
   "name": "python3"
  },
  "language_info": {
   "codemirror_mode": {
    "name": "ipython",
    "version": 3
   },
   "file_extension": ".py",
   "mimetype": "text/x-python",
   "name": "python",
   "nbconvert_exporter": "python",
   "pygments_lexer": "ipython3",
   "version": "3.8.5"
  }
 },
 "nbformat": 4,
 "nbformat_minor": 4
}
