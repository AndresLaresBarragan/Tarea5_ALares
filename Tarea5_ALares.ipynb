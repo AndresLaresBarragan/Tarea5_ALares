{
 "cells": [
  {
   "cell_type": "markdown",
   "metadata": {},
   "source": [
    "<img style=\"float: left; margin: 30px 15px 15px 15px;\" src=\"https://pngimage.net/wp-content/uploads/2018/06/logo-iteso-png-5.png\" width=\"300\" height=\"50\" /> \n",
    "    \n",
    "    \n",
    "### <font color='navy'> Simulación de procesos financieros. \n",
    "\n",
    "**Nombres:** <span style=\"color:NAVY\"> Andrés Lares Barragán</span>\n",
    "\n",
    "**Fecha:** 17 de febrero del 2021.  \n",
    "\n",
    "**Expediente** : <span style=\"color:NAVY\"> 724055 </span>  \n",
    "    \n",
    "**Profesor:** Oscar David Jaramillo Zuluaga.\n",
    "\n",
    "<span style=\"color:NAVY\"> Estudiante 1</span>\n",
    "\n",
    "# Tarea 5: Clase 9\n",
    "    \n",
    "### Link a repositorio GitHub\n",
    "   "
   ]
  },
  {
   "cell_type": "markdown",
   "metadata": {},
   "source": [
    "> Para las siguiente dos funciones, genere muestras aleatorias que distribuyan según la función dada usando el método de la transformada inversa y grafique el histograma de 1000 muestras generadas con el método de la transformada inversa y compárela con el función $f(x)$ **(recuerde que $f(x)$ es la distribución de probabilidad y $F(x)$ es la distribución de probabilidad acumulada)** [ver este enlace para más información](https://es.wikipedia.org/wiki/Funci%C3%B3n_de_distribuci%C3%B3n). Este procedimiento se realiza con el fín de validar que el procedimiento y los resultados son correctos.\n"
   ]
  },
  {
   "cell_type": "code",
   "execution_count": 2,
   "metadata": {},
   "outputs": [],
   "source": [
    "import numpy as np, matplotlib.pyplot as plt, pandas as pd"
   ]
  },
  {
   "cell_type": "markdown",
   "metadata": {},
   "source": [
    "## Pregunta 1\n",
    "> Generación variable aleatoria **continua**\n",
    ">El tiempo en el cual un movimiento browniano se mantiene sobre su punto máximo en el intervalo [0,1] tiene una distribución\n",
    ">$$F(x)=\\frac{2}{\\pi}\\sin^{-1}(\\sqrt x),\\quad 0\\leq x\\leq 1$$ </font>"
   ]
  },
  {
   "cell_type": "markdown",
   "metadata": {},
   "source": [
    "<span style=\"color:NAVY\"> 1. Conociendo la distribución de probabilidad acumulada (CDF), el método de la transformada inversa implica igualar $F(x)$ a una variable aleatoria con distribución uniforme $U$.   \n",
    "2. Posteriormente, se despeja $x$ para encontrar la función $F^{-1}(U)$ que genera valores aleatorios de $x$ con distribución de probabilidad (PDF) $f(x)$. </span>"
   ]
  },
  {
   "cell_type": "markdown",
   "metadata": {},
   "source": [
    "#### <span style=\"color:NAVY\"> Transformada Inversa\n",
    "$$F^{-1}(U) = \\sin^2{\\frac{\\pi U}{2}} \\quad \\small{U \\rightarrow \\text{V.A.} \\sim \\text{uniforme(0,1)}}$$\n",
    "\n",
    "$$F^{-1}(U) = \\frac{1-\\cos{\\pi U}}{2}$$\n",
    "</span>"
   ]
  },
  {
   "cell_type": "code",
   "execution_count": 3,
   "metadata": {},
   "outputs": [],
   "source": [
    "def T_inv(N):\n",
    "    '''\n",
    "    Genera muestras aleatorias con dist f(x)\n",
    "    de acuerdo al metodo de la transformada inversa.\n",
    "    '''\n",
    "    return (1-np.cos(np.pi*np.random.random(N)))/2"
   ]
  },
  {
   "cell_type": "markdown",
   "metadata": {},
   "source": [
    "#### <span style=\"color:NAVY\">Comprobación  \n",
    "El histograma de los valores generados debe ser acostado por la PDF $f(x)$.\n",
    "    \n",
    "$$f(x) = \\frac{dF}{dx} = \\frac{1}{\\pi \\sqrt{x} \\sqrt{1-x}} $$\n",
    "</span>"
   ]
  },
  {
   "cell_type": "code",
   "execution_count": 4,
   "metadata": {},
   "outputs": [
    {
     "data": {
      "image/png": "[encoded data removed]",
      "text/plain": [
       "<Figure size 432x288 with 1 Axes>"
      ]
     },
     "metadata": {
      "needs_background": "light"
     },
     "output_type": "display_data"
    }
   ],
   "source": [
    "# Comprobar histograma de valores generados vs. funcion PDF\n",
    "n = 1000 \n",
    "generados = T_inv(n)\n",
    "\n",
    "x = np.arange(0.01, .99, 0.01) # valores desde 0.01 hasta 0.99 para evitar dividir entre cero.\n",
    "f = lambda x: 1/(np.pi*np.sqrt(x)*np.sqrt(1-x))\n",
    "\n",
    "plt.hist(generados, bins = 50, density = True)\n",
    "plt.plot(x,f(x),label='PDF')\n",
    "plt.legend()\n",
    "plt.show()"
   ]
  },
  {
   "cell_type": "markdown",
   "metadata": {},
   "source": [
    "## Pregunta 2\n",
    "\n",
    "> Generación variable aleatoria **discreta**\n",
    "> La distribución binomial modela el número de éxitos de n ensayos independientes donde hay una probabilidad p de éxito en cada ensayo.\n",
    "> Generar una variable aletoria binomial con parámetros $n=10$ y $p=0.7$. Recordar que $$X\\sim binomial(n,p) \\longrightarrow p_i=P(X=i)=\\frac{n!}{i!(n-i)!}p^i(1-p)^{n-i},\\quad i=0,1,\\cdots,n$$\n",
    "> Por propiedades de la operación factorial la anterior $p_i$ se puede escribir como:\n",
    "> $$p_{i+1}=\\frac{n-i}{i+1}\\frac{p}{1-p} p_i $$\n",
    "\n",
    "> **Nota:** Por notación recuerde que para el caso continuo $f(x)$ es la distribución de probabilidad (PDF), mientras $F(x)$ corresponde a la distribución de probabilidad acumulada (CDF). Para el caso discreto, $P(X=i)$ corresponde a su distribución de probabilidad (PMF) y $ F_{X}(x)=\\operatorname {P} (X\\leq x)=\\sum _{x_{i}\\leq x}\\operatorname {P} (X=x_{i})=\\sum _{x_{i}\\leq x}p(x_{i})$, corresponde a su distribución de probabilidad acumulada (CDF)."
   ]
  },
  {
   "cell_type": "markdown",
   "metadata": {},
   "source": [
    "<span style=\"color:NAVY\"> \n",
    "PMF\n",
    "$$P(X=i) = p_{i+1}=\\frac{n-i}{i+1}\\frac{p}{1-p} p_i $$  \n",
    "CDF \n",
    "$$\\operatorname {P} (X\\leq x) = \\sum _{x_{i}\\leq x}p(x_{i})$$\n",
    "</span>"
   ]
  },
  {
   "cell_type": "code",
   "execution_count": 101,
   "metadata": {},
   "outputs": [
    {
     "data": {
      "text/plain": [
       "7     0.2727\n",
       "8     0.2342\n",
       "6     0.1943\n",
       "9     0.1173\n",
       "5     0.1042\n",
       "4     0.0378\n",
       "10    0.0308\n",
       "3     0.0076\n",
       "2     0.0010\n",
       "1     0.0001\n",
       "dtype: float64"
      ]
     },
     "execution_count": 101,
     "metadata": {},
     "output_type": "execute_result"
    }
   ],
   "source": [
    "# Funcion que calcula la probabilidad de ocurrencia de tener 'x' éxitos.\n",
    "PMF = lambda n, p, N: pd.Series(np.random.binomial(n,p,N)).value_counts(normalize = True)\n",
    "prob_ocur = PMF(10,.7,10000) \n",
    "prob_ocur # esta ordenada de mayor a menor segun el valor de p. NO nos sirve asi para calcular p_acum\n",
    "prob_ocur"
   ]
  },
  {
   "cell_type": "code",
   "execution_count": 124,
   "metadata": {
    "scrolled": true
   },
   "outputs": [
    {
     "data": {
      "text/html": [
       "<div>\n",
       "<style scoped>\n",
       "    .dataframe tbody tr th:only-of-type {\n",
       "        vertical-align: middle;\n",
       "    }\n",
       "\n",
       "    .dataframe tbody tr th {\n",
       "        vertical-align: top;\n",
       "    }\n",
       "\n",
       "    .dataframe thead th {\n",
       "        text-align: right;\n",
       "    }\n",
       "</style>\n",
       "<table border=\"1\" class=\"dataframe\">\n",
       "  <thead>\n",
       "    <tr style=\"text-align: right;\">\n",
       "      <th></th>\n",
       "      <th>$$P(X=i)$$</th>\n",
       "      <th>$$\\operatorname {P} (X\\leq x) $$</th>\n",
       "    </tr>\n",
       "    <tr>\n",
       "      <th>$$X_i$$</th>\n",
       "      <th></th>\n",
       "      <th></th>\n",
       "    </tr>\n",
       "  </thead>\n",
       "  <tbody>\n",
       "    <tr>\n",
       "      <th>1</th>\n",
       "      <td>0.0001</td>\n",
       "      <td>0.0001</td>\n",
       "    </tr>\n",
       "    <tr>\n",
       "      <th>2</th>\n",
       "      <td>0.0010</td>\n",
       "      <td>0.0011</td>\n",
       "    </tr>\n",
       "    <tr>\n",
       "      <th>3</th>\n",
       "      <td>0.0076</td>\n",
       "      <td>0.0087</td>\n",
       "    </tr>\n",
       "    <tr>\n",
       "      <th>4</th>\n",
       "      <td>0.0378</td>\n",
       "      <td>0.0465</td>\n",
       "    </tr>\n",
       "    <tr>\n",
       "      <th>5</th>\n",
       "      <td>0.1042</td>\n",
       "      <td>0.1507</td>\n",
       "    </tr>\n",
       "    <tr>\n",
       "      <th>6</th>\n",
       "      <td>0.1943</td>\n",
       "      <td>0.3450</td>\n",
       "    </tr>\n",
       "    <tr>\n",
       "      <th>7</th>\n",
       "      <td>0.2727</td>\n",
       "      <td>0.6177</td>\n",
       "    </tr>\n",
       "    <tr>\n",
       "      <th>8</th>\n",
       "      <td>0.2342</td>\n",
       "      <td>0.8519</td>\n",
       "    </tr>\n",
       "    <tr>\n",
       "      <th>9</th>\n",
       "      <td>0.1173</td>\n",
       "      <td>0.9692</td>\n",
       "    </tr>\n",
       "    <tr>\n",
       "      <th>10</th>\n",
       "      <td>0.0308</td>\n",
       "      <td>1.0000</td>\n",
       "    </tr>\n",
       "  </tbody>\n",
       "</table>\n",
       "</div>"
      ],
      "text/plain": [
       "         $$P(X=i)$$  $$\\operatorname {P} (X\\leq x) $$\n",
       "$$X_i$$                                              \n",
       "1            0.0001                            0.0001\n",
       "2            0.0010                            0.0011\n",
       "3            0.0076                            0.0087\n",
       "4            0.0378                            0.0465\n",
       "5            0.1042                            0.1507\n",
       "6            0.1943                            0.3450\n",
       "7            0.2727                            0.6177\n",
       "8            0.2342                            0.8519\n",
       "9            0.1173                            0.9692\n",
       "10           0.0308                            1.0000"
      ]
     },
     "execution_count": 124,
     "metadata": {},
     "output_type": "execute_result"
    }
   ],
   "source": [
    "# Ordenar prob_ocur de manera ascendente segun el valor de x. (1,2,3,..,10)\n",
    "p_ocur_ordenadas = [[prob_ocur.iloc[i] for i in range(0,len(prob_ocur)) if prob_ocur.index[i] == j]\n",
    "                    for j in prob_ocur.index.sort_values()]\n",
    "\n",
    "# crear un data frame con las probabilidades de ocrruencia en orden ascendente segun el valor de x.\n",
    "data = pd.DataFrame(index = prob_ocur.index.sort_values(), data = p_ocur_ordenadas, columns = ['$$P(X=i)$$']).rename_axis(index='$$X_i$$')\n",
    "\n",
    "# agregar la probabilidad acumulada usando np.cumsum()\n",
    "data['$$\\operatorname {P} (X\\leq x) $$'] = np.cumsum(p_ocur_ordenadas)\n",
    "data"
   ]
  }
 ],
 "metadata": {
  "kernelspec": {
   "display_name": "Python 3",
   "language": "python",
   "name": "python3"
  },
  "language_info": {
   "codemirror_mode": {
    "name": "ipython",
    "version": 3
   },
   "file_extension": ".py",
   "mimetype": "text/x-python",
   "name": "python",
   "nbconvert_exporter": "python",
   "pygments_lexer": "ipython3",
   "version": "3.8.5"
  }
 },
 "nbformat": 4,
 "nbformat_minor": 4
}
